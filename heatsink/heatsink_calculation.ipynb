{
  "nbformat": 4,
  "nbformat_minor": 0,
  "metadata": {
    "colab": {
      "name": "heatsink_calculation.ipynb",
      "version": "0.3.2",
      "provenance": [],
      "include_colab_link": true
    },
    "kernelspec": {
      "name": "python3",
      "display_name": "Python 3"
    }
  },
  "cells": [
    {
      "cell_type": "markdown",
      "metadata": {
        "id": "view-in-github",
        "colab_type": "text"
      },
      "source": [
        "<a href=\"https://colab.research.google.com/github/lsmanoel/PowerEletronics/blob/master/heatsink/heatsink_calculation.ipynb\" target=\"_parent\"><img src=\"https://colab.research.google.com/assets/colab-badge.svg\" alt=\"Open In Colab\"/></a>"
      ]
    },
    {
      "metadata": {
        "id": "XGnYBly0Q2YE",
        "colab_type": "text"
      },
      "cell_type": "markdown",
      "source": [
        "# Cálculo de Dissipador (Heatsink Calculation)\n",
        "Lucas Seara Manoel e Diogo Tavares"
      ]
    },
    {
      "metadata": {
        "id": "94OkNXeLVRhk",
        "colab_type": "text"
      },
      "cell_type": "markdown",
      "source": [
        "\n",
        "![alt text](https://raw.githubusercontent.com/lsmanoel/PowerEletronics/master/heatsink/images/circuito_conversorBuck.png)"
      ]
    },
    {
      "metadata": {
        "id": "CrhMdPOUWpKJ",
        "colab_type": "text"
      },
      "cell_type": "markdown",
      "source": [
        "$$DutyCycle = \\frac{V_{out}}{V_{in}} = \\frac{12}{36} = 0.33$$\n",
        "\n",
        "$$I_{out} = \\frac{P}{V_{out}} = \\frac{100}{12} = 8.33\\space A$$ \n",
        "\n",
        "$$R_{load} = \\frac{V_{out}}{I_{out}} = \\frac{12}{8.33} = 1.44 \\space \\Omega$$\n",
        "\n",
        "$$\\Delta I = \\frac{V_{out}}{fI_{out}L}=\\frac{12(1-0.33)}{(100\\times10^{3})(8.33)(50\\times10^{-6})} = 0.0192\\%$$"
      ]
    }
  ]
}