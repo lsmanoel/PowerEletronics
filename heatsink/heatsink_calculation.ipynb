{
  "nbformat": 4,
  "nbformat_minor": 0,
  "metadata": {
    "colab": {
      "name": "heatsink_calculation.ipynb",
      "version": "0.3.2",
      "provenance": [],
      "collapsed_sections": [],
      "include_colab_link": true
    },
    "kernelspec": {
      "name": "python3",
      "display_name": "Python 3"
    }
  },
  "cells": [
    {
      "cell_type": "markdown",
      "metadata": {
        "id": "view-in-github",
        "colab_type": "text"
      },
      "source": [
        "<a href=\"https://colab.research.google.com/github/lsmanoel/PowerEletronics/blob/master/heatsink/heatsink_calculation.ipynb\" target=\"_parent\"><img src=\"https://colab.research.google.com/assets/colab-badge.svg\" alt=\"Open In Colab\"/></a>"
      ]
    },
    {
      "metadata": {
        "id": "XGnYBly0Q2YE",
        "colab_type": "text"
      },
      "cell_type": "markdown",
      "source": [
        "# Cálculo de Dissipador (Heatsink Calculation)\n",
        "Lucas Seara Manoel e Diogo Tavares"
      ]
    },
    {
      "metadata": {
        "id": "94OkNXeLVRhk",
        "colab_type": "text"
      },
      "cell_type": "markdown",
      "source": [
        "\n",
        "![alt text](https://raw.githubusercontent.com/lsmanoel/PowerEletronics/master/heatsink/images/circuito_conversorBuck.png)"
      ]
    },
    {
      "metadata": {
        "id": "CrhMdPOUWpKJ",
        "colab_type": "text"
      },
      "cell_type": "markdown",
      "source": [
        "**Cálculos Preliminares (Preliminary Calculations):**\n",
        "$$DutyCycle: D = \\frac{V_{out}}{V_{in}}$$\n",
        "$$I_{out} = \\frac{P}{V_{out}}$$ \n",
        "$$R_{load} = \\frac{V_{out}}{I_{out}}$$\n",
        "$$\\Delta I_L = \\frac{V_{out}(1-D)}{fL}$$\n",
        "$$\\Delta V_{out} = \\frac{V_{out}(1-D)}{8CLf²}$$"
      ]
    },
    {
      "metadata": {
        "id": "wmTcxDw67ca-",
        "colab_type": "code",
        "colab": {
          "base_uri": "https://localhost:8080/",
          "height": 104
        },
        "outputId": "4ae76345-488b-41fb-f41a-712a9ccc409c"
      },
      "cell_type": "code",
      "source": [
        "v_in = 36\n",
        "v_out = 12\n",
        "f=100e3\n",
        "L=500e-6\n",
        "C=100e-6\n",
        "P=100\n",
        "\n",
        "duty_cycle = v_out/v_in\n",
        "i_out = P/v_out\n",
        "R_load = v_out/i_out\n",
        "delta_iL = (v_out*(1-duty_cycle))/(f*L)\n",
        "delta_vout = (v_out*(1-duty_cycle))/(8*C*L*f**2)\n",
        "\n",
        "print('Duty Cycle:', duty_cycle)\n",
        "print('i_out:', i_out, 'A')\n",
        "print('R_load:', R_load, 'ohns')\n",
        "print('delta_iL:', delta_iL, 'A')\n",
        "print('delta_vout:', delta_vout, 'V')"
      ],
      "execution_count": 1,
      "outputs": [
        {
          "output_type": "stream",
          "text": [
            "Duty Cycle: 0.3333333333333333\n",
            "i_out: 8.333333333333334 A\n",
            "R_load: 1.44 ohns\n",
            "delta_iL: 0.16 A\n",
            "delta_vout: 0.0019999999999999996 V\n"
          ],
          "name": "stdout"
        }
      ]
    },
    {
      "metadata": {
        "id": "X0aMJMc4Iz-a",
        "colab_type": "code",
        "colab": {
          "base_uri": "https://localhost:8080/",
          "height": 318
        },
        "outputId": "15398177-7b06-4d67-8379-d1d86bfbea79"
      },
      "cell_type": "code",
      "source": [
        "import numpy as np\n",
        "import matplotlib.pylab as plt\n",
        "%matplotlib inline\n",
        "\n",
        "plot_size = 100\n",
        "\n",
        "T = 1/f\n",
        "t = np.linspace(0, T, plot_size)\n",
        "i = np.zeros(plot_size)\n",
        "\n",
        "i_max = i_out + delta_iL/2\n",
        "i_min = i_out - delta_iL/2\n",
        "print(i_max, i_min)\n",
        "\n",
        "i[:int(plot_size*duty_cycle)] =(delta_iL)/(T*duty_cycle)*t[:int(plot_size*duty_cycle)] + i_min\n",
        "  \n",
        "i[int(plot_size*duty_cycle):]=(-delta_iL)/(T*(1-duty_cycle))*t[:int(plot_size*(1-duty_cycle))+1]  + i_max\n",
        "\n",
        "plt.xlabel('tempo (segundos)')\n",
        "plt.ylabel('Corrente no Indutor (A)')\n",
        "plt.ylim([8, 9])\n",
        "plt.plot(t, i)\n"
      ],
      "execution_count": 4,
      "outputs": [
        {
          "output_type": "stream",
          "text": [
            "8.413333333333334 8.253333333333334\n"
          ],
          "name": "stdout"
        },
        {
          "output_type": "execute_result",
          "data": {
            "text/plain": [
              "[<matplotlib.lines.Line2D at 0x7ffa9d784cc0>]"
            ]
          },
          "metadata": {
            "tags": []
          },
          "execution_count": 4
        },
        {
          "output_type": "display_data",
          "data": {
            "image/png": "[encoded data removed]",
            "text/plain": [
              "<Figure size 432x288 with 1 Axes>"
            ]
          },
          "metadata": {
            "tags": []
          }
        }
      ]
    }
  ]
}