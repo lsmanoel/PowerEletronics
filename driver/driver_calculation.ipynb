{
  "nbformat": 4,
  "nbformat_minor": 0,
  "metadata": {
    "colab": {
      "name": "driver_calculation.ipynb",
      "version": "0.3.2",
      "provenance": [],
      "collapsed_sections": [],
      "include_colab_link": true
    },
    "kernelspec": {
      "name": "python3",
      "display_name": "Python 3"
    }
  },
  "cells": [
    {
      "cell_type": "markdown",
      "metadata": {
        "id": "view-in-github",
        "colab_type": "text"
      },
      "source": [
        "<a href=\"https://colab.research.google.com/github/lsmanoel/PowerEletronics/blob/master/driver/driver_calculation.ipynb\" target=\"_parent\"><img src=\"https://colab.research.google.com/assets/colab-badge.svg\" alt=\"Open In Colab\"/></a>"
      ]
    },
    {
      "metadata": {
        "id": "XGnYBly0Q2YE",
        "colab_type": "text"
      },
      "cell_type": "markdown",
      "source": [
        "# Cálculo de Circuito de Comando\n",
        "Lucas Seara Manoel e Diogo Tavares"
      ]
    },
    {
      "metadata": {
        "id": "94OkNXeLVRhk",
        "colab_type": "text"
      },
      "cell_type": "markdown",
      "source": [
        "\n",
        "![alt text](https://raw.githubusercontent.com/lsmanoel/PowerEletronics/master/driver/images/buck_circuit.PNG)"
      ]
    },
    {
      "metadata": {
        "id": "-2_twD8fZVaQ",
        "colab_type": "text"
      },
      "cell_type": "markdown",
      "source": [
        "### Para montar o circuito de controle foram escolhidos 2 modelos de CI's para a aplicação.\n",
        "\n",
        "#### Um deles é o [MIC38C42/3/4/5](http://ww1.microchip.com/downloads/en/DeviceDoc/mic38C42.pdf) da Microship, encontrado no site da [Digikey](https://www.digikey.com/products/en/integrated-circuits-ics/pmic-voltage-regulators-dc-dc-switching-controllers/715?k=power%20supply%20driver&newproducts=1), possui PWM. Não há necessidade de isolamento para o conversor Buck, mas este CI apresenta possibilidade de isolamento.\n",
        "\n",
        "### A seguir são apresentadas algumas características e um circuito de aplicação com isolamento sugerida pelo fabricante:\n",
        "\n"
      ]
    }
  ]
}