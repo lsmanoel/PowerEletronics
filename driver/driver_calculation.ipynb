{
  "nbformat": 4,
  "nbformat_minor": 0,
  "metadata": {
    "colab": {
      "name": "driver_calculation.ipynb",
      "version": "0.3.2",
      "provenance": [],
      "collapsed_sections": [],
      "include_colab_link": true
    },
    "kernelspec": {
      "name": "python3",
      "display_name": "Python 3"
    }
  },
  "cells": [
    {
      "cell_type": "markdown",
      "metadata": {
        "id": "view-in-github",
        "colab_type": "text"
      },
      "source": [
        "<a href=\"https://colab.research.google.com/github/lsmanoel/PowerEletronics/blob/master/driver/driver_calculation.ipynb\" target=\"_parent\"><img src=\"https://colab.research.google.com/assets/colab-badge.svg\" alt=\"Open In Colab\"/></a>"
      ]
    },
    {
      "metadata": {
        "id": "XGnYBly0Q2YE",
        "colab_type": "text"
      },
      "cell_type": "markdown",
      "source": [
        "# Cálculo de Circuito de Comando\n",
        "Lucas Seara Manoel e Diogo Tavares"
      ]
    },
    {
      "metadata": {
        "id": "94OkNXeLVRhk",
        "colab_type": "text"
      },
      "cell_type": "markdown",
      "source": [
        "\n",
        "![alt text](https://raw.githubusercontent.com/lsmanoel/PowerEletronics/master/driver/images/buck_circuit.PNG)"
      ]
    },
    {
      "metadata": {
        "id": "CrhMdPOUWpKJ",
        "colab_type": "text"
      },
      "cell_type": "markdown",
      "source": [
        "# Cálculos Preliminares:\n",
        "$$DutyCycle: D = \\frac{V_{out}}{V_{in}}$$\n",
        "$$I_{out} = \\frac{P}{V_{out}}$$ \n",
        "$$R_{load} = \\frac{V_{out}}{I_{out}}$$\n",
        "$$\\Delta I_L = \\frac{V_{out}(1-D)}{fL}$$\n",
        "$$I_{co} = I_{out}\\sqrt{D}$$\n",
        "$$RSE_{max} = \\frac{V_{out}\\Delta I_L}{\\Delta I_L*I_{co}}$$\n",
        "$$C_{o} = \\frac{I_{out}}{V_{out}*\\Delta V_{out}*f}$$"
      ]
    },
    {
      "metadata": {
        "id": "Rwj4Wa2Q6N8G",
        "colab_type": "code",
        "outputId": "818b0bf3-5234-4715-d2d3-0760df48b96f",
        "colab": {
          "base_uri": "https://localhost:8080/",
          "height": 102
        }
      },
      "cell_type": "code",
      "source": [
        "v_in = 36\n",
        "v_out = 12\n",
        "f=50e3\n",
        "L=100e-6\n",
        "P=100\n",
        "delta_vout = 0.01\n",
        "\n",
        "duty_cycle = v_out/v_in\n",
        "i_out = P/v_out\n",
        "R_load = v_out/i_out\n",
        "delta_iL = (v_out*(1-duty_cycle))/(f*i_out*L)\n",
        "\n",
        "print('f:', f, 'Hz')\n",
        "print('Duty Cycle:', duty_cycle)\n",
        "print('i_out:', i_out, 'A')\n",
        "print('R_load:', R_load, 'ohns')\n",
        "print('delta_iL:', delta_iL, 'A')"
      ],
      "execution_count": 0,
      "outputs": [
        {
          "output_type": "stream",
          "text": [
            "f: 50000.0 Hz\n",
            "Duty Cycle: 0.3333333333333333\n",
            "i_out: 8.333333333333334 A\n",
            "R_load: 1.44 ohns\n",
            "delta_iL: 0.19199999999999998 A\n"
          ],
          "name": "stdout"
        }
      ]
    },
    {
      "metadata": {
        "id": "npEluplE3X7m",
        "colab_type": "text"
      },
      "cell_type": "markdown",
      "source": [
        "---\n",
        "# Transistor"
      ]
    },
    {
      "metadata": {
        "id": "P37k792UY3YB",
        "colab_type": "text"
      },
      "cell_type": "markdown",
      "source": [
        "### Esforços na chave"
      ]
    },
    {
      "metadata": {
        "id": "CN1B6V56Y6YZ",
        "colab_type": "code",
        "outputId": "8db6feec-ea6d-4b26-dd20-da2e20227f33",
        "colab": {
          "base_uri": "https://localhost:8080/",
          "height": 85
        }
      },
      "cell_type": "code",
      "source": [
        "v_key = v_in\n",
        "print('Tensão na Chave: %.2f V' % v_key)\n",
        "i_spk = i_out + (delta_vout/2)*i_out\n",
        "print('Corrente de Pico da Chave: %.2f A' % i_spk)\n",
        "i_smed = i_out*duty_cycle\n",
        "print('Corrente Média da Chave: %.2f A' % i_smed)\n",
        "i_srms = i_out*(duty_cycle ** (1/2))\n",
        "print('Corrente Eficaz da Chave: %.2f A' % i_srms)"
      ],
      "execution_count": 0,
      "outputs": [
        {
          "output_type": "stream",
          "text": [
            "Tensão na Chave: 36.00 V\n",
            "Corrente de Pico da Chave: 8.38 A\n",
            "Corrente Média da Chave: 2.78 A\n",
            "Corrente Eficaz da Chave: 4.81 A\n"
          ],
          "name": "stdout"
        }
      ]
    },
    {
      "metadata": {
        "id": "qo58Nqgs95hp",
        "colab_type": "text"
      },
      "cell_type": "markdown",
      "source": [
        "**Transistor Selecionado:**\n",
        "\n",
        "[SUP40012EL](http://www.vishay.com/docs/76965/sup40012el.pdf)\n",
        "\n",
        "$V_{ds}$: 40V\n",
        "\n",
        "Corrente de Pico:  300 A\n",
        "\n",
        "Corrente de Média:  150 A"
      ]
    },
    {
      "metadata": {
        "id": "IonJ_P_gGuKh",
        "colab_type": "text"
      },
      "cell_type": "markdown",
      "source": [
        "# Cálculo de Dissipador"
      ]
    },
    {
      "metadata": {
        "id": "Y9Kc1ZtQHuLS",
        "colab_type": "text"
      },
      "cell_type": "markdown",
      "source": [
        "**Perdas por condução:**\n",
        "\n",
        "$$P_{cond} = R_{DS(ON)}{I_{s_{ef}}}²$$\n",
        "\n",
        "**Perdas por comutação:**\n",
        "\n",
        "$$P_{com}=\\frac{f}{2}(t_r + t_f)I_{DS(ON)}V_{DS(OFF)}$$\n",
        "\n",
        "**Perdas Total:**\n",
        "\n",
        "$$P = P_{cond} + P_{com}$$"
      ]
    },
    {
      "metadata": {
        "id": "v1rbxM-FPceF",
        "colab_type": "text"
      },
      "cell_type": "markdown",
      "source": [
        "**Resistência Térmica:**\n",
        "\n",
        "\n",
        "*   $R_{ja}$: Junção -> Ambiente\n",
        "*   $R_{jc}$: Junção -> Encapsulamento\n",
        "*   $R_{cd}$: Encapsulamento -> Dissipador\n",
        "*   $R_{da}$: Dissipador -> Ambiente\n",
        "\n",
        "Resistência térmica máxima para a temperatura da junção e ambiente definidas:\n",
        "\n",
        "$$R_{ja}=\\frac{T_j - T_a}{P}$$\n",
        "\n",
        "Resistência térmica série do conjunto de elementos entre a junção e o ambiente:\n",
        "\n",
        "$$R_{ja}=R_{jc}+R_{cd}+R_{da}$$\n",
        "\n"
      ]
    },
    {
      "metadata": {
        "id": "BwIVB6Uz6R3G",
        "colab_type": "text"
      },
      "cell_type": "markdown",
      "source": [
        "[Referência](https://electronics.stackexchange.com/questions/16956/to-220-case-to-sink-thermal-resistance) para o valor de resistência térmica entre o encapsulamento e o dissipador:\n",
        "\n",
        "$R_{cd} = 0.5$ Cº/W"
      ]
    },
    {
      "metadata": {
        "id": "-YiGJ5HkGqG6",
        "colab_type": "code",
        "outputId": "d88583bc-3c3d-4425-fc39-192c842ff482",
        "colab": {
          "base_uri": "https://localhost:8080/",
          "height": 85
        }
      },
      "cell_type": "code",
      "source": [
        "f=50e3\n",
        "print('f:', f, 'Hz')\n",
        "\n",
        "Is_ef = 4.81\n",
        "Rds_on = 0.00179\n",
        "P_cond = Rds_on*Is_ef**2\n",
        "print('Perdas por condução:', P_cond, 'W')\n",
        "\n",
        "t_r = 65e-9\n",
        "t_f = 18e-9\n",
        "Ids_on = 8.38\n",
        "Vds_off=v_in\n",
        "P_com = (f/2)*(t_r+t_f)*Ids_on*Vds_off\n",
        "P50 = P_cond+P_com\n",
        "print('Perdas por comutação:', P_com, 'W')\n",
        "print('Perdas Totais:', P50, 'W')\n"
      ],
      "execution_count": 0,
      "outputs": [
        {
          "output_type": "stream",
          "text": [
            "f: 50000.0 Hz\n",
            "Perdas por condução: 0.04141361899999999 W\n",
            "Perdas por comutação: 0.625986 W\n",
            "Perdas Totais: 0.667399619 W\n"
          ],
          "name": "stdout"
        }
      ]
    },
    {
      "metadata": {
        "id": "OafmXgzAR3Xn",
        "colab_type": "code",
        "outputId": "cbaea240-1f22-4ea4-836e-23c6c6bf0953",
        "colab": {
          "base_uri": "https://localhost:8080/",
          "height": 85
        }
      },
      "cell_type": "code",
      "source": [
        "T_a = 50\n",
        "T_j = 125\n",
        "\n",
        "R_ja = 40 #Datasheet\n",
        "\n",
        "f=50e3\n",
        "print('f:', f, 'Hz')\n",
        "\n",
        "R_ja50 = (T_j - T_a)/P50\n",
        "print('Resistência Junção->Ambiente Máxima:', R_ja50, 'grausC/W')\n",
        "\n",
        "print(\"Precisa de Dissipador?\", R_ja50<R_ja)"
      ],
      "execution_count": 0,
      "outputs": [
        {
          "output_type": "stream",
          "text": [
            "f: 50000.0 Hz\n",
            "Resistência Junção->Ambiente Máxima: 112.37645012800044 grausC/W\n",
            "Resistência Junção->Ambiente Máxima: 112.37645012800044 grausC/W\n",
            "Precisa de Dissipador? False\n"
          ],
          "name": "stdout"
        }
      ]
    },
    {
      "metadata": {
        "id": "LYNnZcJOVVoI",
        "colab_type": "text"
      },
      "cell_type": "markdown",
      "source": [
        "**Dissipador escolhido:** \n",
        "\n",
        "---\n",
        "\n",
        "hs3512B com 20 mm\n",
        "\n",
        "Resistência Térmica: 8,44 ºC / W / 4\n",
        "\n",
        "Fator de correção para 20 mm: 2.21\n",
        "\n",
        "$8,44\\times2.21=18.65$ Cº/W\n",
        "\n",
        "[Catálago HS Dissipadores](https://www.hsdissipadores.com.br/catalogo.pdf)\n",
        "\n",
        "---\n",
        "\n",
        "EX Series Hearsinks:\n",
        "\n",
        "Modelo E2A-T220-25E\n",
        "\n",
        "Resistência Térmica: 16.4ºC / W\n",
        "\n",
        "[Catálago OHMITE](https://www.mouser.com/datasheet/2/303/sink_ex-1265519.pdf)"
      ]
    },
    {
      "metadata": {
        "id": "mPylkGTN3PeK",
        "colab_type": "text"
      },
      "cell_type": "markdown",
      "source": [
        "---\n",
        "# Diodo"
      ]
    },
    {
      "metadata": {
        "id": "Cx3RWJNqFNjW",
        "colab_type": "text"
      },
      "cell_type": "markdown",
      "source": [
        "## Esforços"
      ]
    },
    {
      "metadata": {
        "id": "vtZqPY1xFgEh",
        "colab_type": "code",
        "outputId": "a1adf89c-d4b4-4f0e-e704-53716d2cb97e",
        "colab": {
          "base_uri": "https://localhost:8080/",
          "height": 85
        }
      },
      "cell_type": "code",
      "source": [
        "v_reverse = v_in\n",
        "print('Tensão Reversa: %.2f V' % v_reverse)\n",
        "\n",
        "i_dpk = i_out + delta_iL/2*i_out\n",
        "print('Corrente de Pico do Diodo: %.2f A' % i_dpk)\n",
        "\n",
        "i_dmed = i_out*(1-duty_cycle)\n",
        "print('Corrente Média do Diodo: %.2f A' % i_dmed)\n",
        "\n",
        "i_drms = i_out*((1-duty_cycle) ** (1/2))\n",
        "print('Corrente Eficaz do Diodo: %.2f A' % i_drms)"
      ],
      "execution_count": 0,
      "outputs": [
        {
          "output_type": "stream",
          "text": [
            "Tensão Reversa: 36.00 V\n",
            "Corrente de Pico do Diodo: 9.13 A\n",
            "Corrente Média do Diodo: 5.56 A\n",
            "Corrente Eficaz do Diodo: 6.80 A\n"
          ],
          "name": "stdout"
        }
      ]
    },
    {
      "metadata": {
        "id": "PzzDaNmX9Hmp",
        "colab_type": "text"
      },
      "cell_type": "markdown",
      "source": [
        "**Diodo Selecionado:**\n",
        "\n",
        "[MBRB3045CT-1G](https://br.mouser.com/ProductDetail/ON-Semiconductor/MBRB3045CT-1G?qs=OSf9jACorvZq6Cx9I44z%252BA%3D%3D)\n",
        "\n",
        "Peak Reverse Voltage: 45 V\n",
        "Max Surge Current: 150 A\n",
        "If - Forward Current: 30 A\n"
      ]
    },
    {
      "metadata": {
        "colab_type": "text",
        "id": "sx44eKdpfUI0"
      },
      "cell_type": "markdown",
      "source": [
        "---\n",
        "# Capacitor"
      ]
    },
    {
      "metadata": {
        "id": "wmTcxDw67ca-",
        "colab_type": "code",
        "outputId": "9833281d-e63b-4d2c-a88b-116780e70b50",
        "colab": {
          "base_uri": "https://localhost:8080/",
          "height": 68
        }
      },
      "cell_type": "code",
      "source": [
        "i_co = i_out*(duty_cycle ** (1/2))\n",
        "print('i_co: %.2f A' % i_co)\n",
        "\n",
        "rse_max = (delta_vout*v_out)/(delta_iL*i_out)\n",
        "print('rse_max: %.2f Ohm' % rse_max)\n",
        "\n",
        "C_o = (i_out/(delta_vout*v_out*f)) * duty_cycle\n",
        "print(f'Capacitância Mínima:{C_o:.2E} F')"
      ],
      "execution_count": 0,
      "outputs": [
        {
          "output_type": "stream",
          "text": [
            "i_co: 4.81 A\n",
            "rse_max: 0.07 Ohm\n",
            "Capacitância Mínima:4.63E-04 F\n"
          ],
          "name": "stdout"
        }
      ]
    },
    {
      "metadata": {
        "id": "jtj6Qd9HLKFl",
        "colab_type": "text"
      },
      "cell_type": "markdown",
      "source": [
        "**Capacitor Selecionado:**\n",
        "\n",
        "[667-EEU-FR1H471](https://br.mouser.com/ProductDetail/Panasonic/EEU-FR1H471?qs=sGAEpiMZZMtZ1n0r9vR22f2plZjWOZXTu0LqHMfIqXE%3D)"
      ]
    },
    {
      "metadata": {
        "id": "jTtnqypXKztS",
        "colab_type": "text"
      },
      "cell_type": "markdown",
      "source": [
        "![alt text](https://raw.githubusercontent.com/lsmanoel/PowerEletronics/master/capacitor/images/capacitor_tab.png)"
      ]
    }
  ]
}