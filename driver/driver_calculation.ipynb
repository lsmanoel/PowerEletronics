{
  "nbformat": 4,
  "nbformat_minor": 0,
  "metadata": {
    "colab": {
      "name": "driver_calculation.ipynb",
      "version": "0.3.2",
      "provenance": [],
      "collapsed_sections": [],
      "include_colab_link": true
    },
    "kernelspec": {
      "name": "python3",
      "display_name": "Python 3"
    }
  },
  "cells": [
    {
      "cell_type": "markdown",
      "metadata": {
        "id": "view-in-github",
        "colab_type": "text"
      },
      "source": [
        "<a href=\"https://colab.research.google.com/github/lsmanoel/PowerEletronics/blob/master/driver/driver_calculation.ipynb\" target=\"_parent\"><img src=\"https://colab.research.google.com/assets/colab-badge.svg\" alt=\"Open In Colab\"/></a>"
      ]
    },
    {
      "metadata": {
        "id": "XGnYBly0Q2YE",
        "colab_type": "text"
      },
      "cell_type": "markdown",
      "source": [
        "# Cálculo de Circuito de Comando\n",
        "Lucas Seara Manoel e Diogo Tavares"
      ]
    },
    {
      "metadata": {
        "id": "94OkNXeLVRhk",
        "colab_type": "text"
      },
      "cell_type": "markdown",
      "source": [
        "\n",
        "![alt text](https://raw.githubusercontent.com/lsmanoel/PowerEletronics/master/driver/images/buck_circuit.PNG)"
      ]
    },
    {
      "metadata": {
        "id": "JiH-DrKuez6g",
        "colab_type": "text"
      },
      "cell_type": "markdown",
      "source": [
        "# Modelo 1: [TPS40052](http://www.ti.com/lit/ds/slus563c/slus563c.pdf)\n",
        "\n",
        "![alt text](https://raw.githubusercontent.com/lsmanoel/PowerEletronics/master/driver/images/tps_40052_overview.png)"
      ]
    },
    {
      "metadata": {
        "id": "R46LNxTWe-eC",
        "colab_type": "text"
      },
      "cell_type": "markdown",
      "source": [
        "# Modelo 1: [TPS40056](http://www.ti.com/lit/ds/symlink/tps40056.pdf)\n",
        "![alt text](https://raw.githubusercontent.com/lsmanoel/PowerEletronics/master/driver/images/tps_40056_overview.png)"
      ]
    },
    {
      "metadata": {
        "id": "OuGHkgacf25k",
        "colab_type": "text"
      },
      "cell_type": "markdown",
      "source": [
        "# Modelo 2:[ MIC2103/4](http://ww1.microchip.com/downloads/en/DeviceDoc/20005899A.pdf)\n",
        "\n",
        "![alt text](https://raw.githubusercontent.com/lsmanoel/PowerEletronics/master/driver/images/eletrical.PNG)\n",
        "\n",
        "![alt text](https://raw.githubusercontent.com/lsmanoel/PowerEletronics/master/driver/images/aplication.PNG)"
      ]
    }
  ]
}