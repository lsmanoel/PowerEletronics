{
  "nbformat": 4,
  "nbformat_minor": 0,
  "metadata": {
    "colab": {
      "name": "inductor_calculation.ipynb",
      "version": "0.3.2",
      "provenance": [],
      "collapsed_sections": [],
      "include_colab_link": true
    },
    "kernelspec": {
      "name": "python3",
      "display_name": "Python 3"
    }
  },
  "cells": [
    {
      "cell_type": "markdown",
      "metadata": {
        "id": "view-in-github",
        "colab_type": "text"
      },
      "source": [
        "<a href=\"https://colab.research.google.com/github/lsmanoel/PowerEletronics/blob/master/inductor/inductor_calculation.ipynb\" target=\"_parent\"><img src=\"https://colab.research.google.com/assets/colab-badge.svg\" alt=\"Open In Colab\"/></a>"
      ]
    },
    {
      "metadata": {
        "id": "XGnYBly0Q2YE",
        "colab_type": "text"
      },
      "cell_type": "markdown",
      "source": [
        "# Cálculo de Indutor\n",
        "Lucas Seara Manoel e Diogo Tavares"
      ]
    },
    {
      "metadata": {
        "id": "94OkNXeLVRhk",
        "colab_type": "text"
      },
      "cell_type": "markdown",
      "source": [
        "\n",
        "![alt text](https://raw.githubusercontent.com/lsmanoel/PowerEletronics/master/inductor/images/circuito_buck.PNG)"
      ]
    },
    {
      "metadata": {
        "id": "CrhMdPOUWpKJ",
        "colab_type": "text"
      },
      "cell_type": "markdown",
      "source": [
        "# Cálculos Preliminares:\n",
        "$$DutyCycle: D = \\frac{V_{out}}{V_{in}}$$\n",
        "$$I_{out} = \\frac{P}{V_{out}}$$ \n",
        "$$R_{load} = \\frac{V_{out}}{I_{out}}$$\n",
        "$$\\Delta I_L = \\frac{V_{out}(1-D)}{fL}$$\n",
        "$$I_{co} = I_{out}\\sqrt{D}$$\n",
        "$$RSE_{max} = \\frac{V_{out}\\Delta I_L}{\\Delta I_L*I_{co}}$$\n",
        "$$C_{o} = \\frac{I_{out}}{V_{out}*\\Delta V_{out}*f}$$"
      ]
    },
    {
      "metadata": {
        "id": "Rwj4Wa2Q6N8G",
        "colab_type": "code",
        "outputId": "2163378a-99ef-4af4-c9fc-830c94a93d80",
        "colab": {
          "base_uri": "https://localhost:8080/",
          "height": 102
        }
      },
      "cell_type": "code",
      "source": [
        "v_in = 36\n",
        "v_out = 12\n",
        "f=100e3\n",
        "L=100e-6\n",
        "P=100\n",
        "delta_vout = 0.01\n",
        "\n",
        "duty_cycle = v_out/v_in\n",
        "i_out = P/v_out\n",
        "R_load = v_out/i_out\n",
        "\n",
        "delta_iL = 0.1\n",
        "L = (v_out*(1-duty_cycle))/(f*i_out*delta_iL)\n",
        "\n",
        "print('f:', f, 'Hz')\n",
        "print('Duty Cycle:', duty_cycle)\n",
        "print('i_out:', i_out, 'A')\n",
        "print('R_load:', R_load, 'ohns')\n",
        "print('L:', L, 'H')"
      ],
      "execution_count": 3,
      "outputs": [
        {
          "output_type": "stream",
          "text": [
            "f: 100000.0 Hz\n",
            "Duty Cycle: 0.3333333333333333\n",
            "i_out: 8.333333333333334 A\n",
            "R_load: 1.44 ohns\n",
            "L: 9.599999999999999e-05 H\n"
          ],
          "name": "stdout"
        }
      ]
    }
  ]
}