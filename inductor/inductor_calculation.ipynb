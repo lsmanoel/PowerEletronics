{
  "nbformat": 4,
  "nbformat_minor": 0,
  "metadata": {
    "colab": {
      "name": "inductor_calculation.ipynb",
      "version": "0.3.2",
      "provenance": [],
      "collapsed_sections": [],
      "include_colab_link": true
    },
    "kernelspec": {
      "name": "python3",
      "display_name": "Python 3"
    }
  },
  "cells": [
    {
      "cell_type": "markdown",
      "metadata": {
        "id": "view-in-github",
        "colab_type": "text"
      },
      "source": [
        "<a href=\"https://colab.research.google.com/github/lsmanoel/PowerEletronics/blob/master/inductor/inductor_calculation.ipynb\" target=\"_parent\"><img src=\"https://colab.research.google.com/assets/colab-badge.svg\" alt=\"Open In Colab\"/></a>"
      ]
    },
    {
      "metadata": {
        "id": "XGnYBly0Q2YE",
        "colab_type": "text"
      },
      "cell_type": "markdown",
      "source": [
        "# Cálculo de Indutor\n",
        "Lucas Seara Manoel e Diogo Tavares"
      ]
    },
    {
      "metadata": {
        "id": "94OkNXeLVRhk",
        "colab_type": "text"
      },
      "cell_type": "markdown",
      "source": [
        "\n",
        "![alt text](https://raw.githubusercontent.com/lsmanoel/PowerEletronics/master/inductor/images/circuito_buck.PNG)"
      ]
    },
    {
      "metadata": {
        "id": "CrhMdPOUWpKJ",
        "colab_type": "text"
      },
      "cell_type": "markdown",
      "source": [
        "# Cálculos Preliminares:\n",
        "$$DutyCycle: D = \\frac{V_{out}}{V_{in}}$$\n",
        "$$I_{out} = \\frac{P}{V_{out}}$$ \n",
        "$$R_{load} = \\frac{V_{out}}{I_{out}}$$\n",
        "$$\\Delta I_L = \\frac{V_{out}(1-D)}{fL}$$\n",
        "$$I_{co} = I_{out}\\sqrt{D}$$\n",
        "$$RSE_{max} = \\frac{V_{out}\\Delta I_L}{\\Delta I_L*I_{co}}$$\n",
        "$$C_{o} = \\frac{I_{out}}{V_{out}*\\Delta V_{out}*f}$$"
      ]
    },
    {
      "metadata": {
        "id": "Rwj4Wa2Q6N8G",
        "colab_type": "code",
        "outputId": "350dc3ed-f123-4776-e7df-1984f696ef13",
        "colab": {
          "base_uri": "https://localhost:8080/",
          "height": 136
        }
      },
      "cell_type": "code",
      "source": [
        "v_in = 36\n",
        "v_out = 12\n",
        "f=100e3\n",
        "L=100e-6\n",
        "P=100\n",
        "delta_vout = 0.1\n",
        "\n",
        "duty_cycle = v_out/v_in\n",
        "i_out = P/v_out\n",
        "R_load = v_out/i_out\n",
        "\n",
        "delta_iL = 0.1      # especificado\n",
        "\n",
        "iL_max = i_out + i_out*delta_iL/2\n",
        "iL_rms = iL_max/1.4142\n",
        "\n",
        "L = (v_out*(1-duty_cycle))/(f*i_out*delta_iL)\n",
        "\n",
        "print('f:', f, 'Hz')\n",
        "print('Duty Cycle:', duty_cycle)\n",
        "print('i_out:', i_out, 'A')\n",
        "print('i_max:', iL_max, 'A')\n",
        "print('iL_rms:', iL_rms, 'A')\n",
        "print('R_load:', R_load, 'ohns')\n",
        "print('L:', L, 'H')"
      ],
      "execution_count": 10,
      "outputs": [
        {
          "output_type": "stream",
          "text": [
            "f: 100000.0 Hz\n",
            "Duty Cycle: 0.3333333333333333\n",
            "i_out: 8.333333333333334 A\n",
            "i_max: 8.75 A\n",
            "iL_rms: 6.187243671333617 A\n",
            "R_load: 1.44 ohns\n",
            "L: 9.599999999999999e-05 H\n"
          ],
          "name": "stdout"
        }
      ]
    },
    {
      "metadata": {
        "id": "K444fQwuEtol",
        "colab_type": "text"
      },
      "cell_type": "markdown",
      "source": [
        "####Com os valores calculados anteriormente para o indutor, foi realizado o cálculo na planilha do SMath fornecida para especificar os parâmetros construtivos do componente para o núcleos da Thornton.\n",
        "\n",
        "###Os resultados foram:\n",
        "\n",
        "AeAw = 0.491 cm4\n",
        "\n",
        "Ae = 1.2 cm²\n",
        "\n",
        "lt = 6.7 cm \n",
        "\n",
        "Aw = 0.85 cm²\n",
        "\n",
        "Ve = 8 cm³\n",
        "\n",
        "Núcleo:  E-30/14\n",
        "\n",
        "N espiras = 21\n",
        "\n",
        "lg = 0.0665 cm  (entreferro)\n",
        "\n",
        "Perdas núcleo = 0.0001 W\n",
        "\n",
        "Prof penetr = 0.0474 cm  (diâmetro máx do condutor) \n",
        "\n",
        "AWG = 25\n",
        "\n",
        "Nfios = 9  (fios em paralelo)\n",
        "\n",
        "Rfio = 0.0222 ohm \n",
        "\n",
        "Pcu = 0.8492 W\n",
        "\n",
        "Ptotal = 0.8493 W\n",
        "\n",
        "Rt = 22.83  °C/W \n",
        " \n",
        "T = 19.4 ° (elevação da temp no núcleo)\n",
        "\n",
        "Koc = 0.462 (Fator de ocupação)\n",
        "\n",
        "\n"
      ]
    },
    {
      "metadata": {
        "id": "z0Gp6hZpY9YV",
        "colab_type": "text"
      },
      "cell_type": "markdown",
      "source": [
        "####Com os valores calculados anteriormente para o indutor, foi realizado o cálculo na planilha do Excel fornecida para especificar os parâmetros construtivos do componente para o núcleos da Magnatics.\n",
        "\n",
        "###Os resultados foram:"
      ]
    }
  ]
}