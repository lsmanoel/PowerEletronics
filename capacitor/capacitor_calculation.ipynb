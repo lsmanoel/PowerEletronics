{
  "nbformat": 4,
  "nbformat_minor": 0,
  "metadata": {
    "colab": {
      "name": "capacitor_calculation.ipynb",
      "version": "0.3.2",
      "provenance": [],
      "collapsed_sections": [],
      "include_colab_link": true
    },
    "kernelspec": {
      "name": "python3",
      "display_name": "Python 3"
    }
  },
  "cells": [
    {
      "cell_type": "markdown",
      "metadata": {
        "id": "view-in-github",
        "colab_type": "text"
      },
      "source": [
        "<a href=\"https://colab.research.google.com/github/lsmanoel/PowerEletronics/blob/master/capacitor/capacitor_calculation.ipynb\" target=\"_parent\"><img src=\"https://colab.research.google.com/assets/colab-badge.svg\" alt=\"Open In Colab\"/></a>"
      ]
    },
    {
      "metadata": {
        "id": "XGnYBly0Q2YE",
        "colab_type": "text"
      },
      "cell_type": "markdown",
      "source": [
        "# Cálculo de Capicitor\n",
        "Lucas Seara Manoel e Diogo Tavares"
      ]
    },
    {
      "metadata": {
        "id": "94OkNXeLVRhk",
        "colab_type": "text"
      },
      "cell_type": "markdown",
      "source": [
        "\n",
        "![alt text](https://raw.githubusercontent.com/lsmanoel/PowerEletronics/master/capacitor/images/circuito_buck.PNG)"
      ]
    },
    {
      "metadata": {
        "id": "CrhMdPOUWpKJ",
        "colab_type": "text"
      },
      "cell_type": "markdown",
      "source": [
        "# Cálculos Preliminares:\n",
        "$$DutyCycle: D = \\frac{V_{out}}{V_{in}}$$\n",
        "$$I_{out} = \\frac{P}{V_{out}}$$ \n",
        "$$R_{load} = \\frac{V_{out}}{I_{out}}$$\n",
        "$$\\Delta I_L = \\frac{V_{out}(1-D)}{fL}$$\n",
        "$$I_{co} = I_{out}\\sqrt{D}$$\n",
        "$$RSE_{max} = \\frac{V_{out}\\Delta I_L}{\\Delta I_L*I_{co}}$$\n",
        "$$C_{o} = \\frac{I_{out}}{V_{out}*\\Delta V_{out}*f}$$"
      ]
    },
    {
      "metadata": {
        "id": "wmTcxDw67ca-",
        "colab_type": "code",
        "outputId": "3f1f9501-316e-49ec-c1f8-0c1d532dd478",
        "colab": {
          "base_uri": "https://localhost:8080/",
          "height": 153
        }
      },
      "cell_type": "code",
      "source": [
        "v_in = 36\n",
        "v_out = 12\n",
        "f=50e3\n",
        "L=100e-6\n",
        "P=100\n",
        "delta_vout = 0.01\n",
        "\n",
        "duty_cycle = v_out/v_in\n",
        "i_out = P/v_out\n",
        "R_load = v_out/i_out\n",
        "delta_iL = (v_out*(1-duty_cycle))/(f*L)\n",
        "\n",
        "print('f:', f, 'Hz')\n",
        "print('Duty Cycle:', duty_cycle)\n",
        "print('i_out:', i_out, 'A')\n",
        "print('R_load:', R_load, 'ohns')\n",
        "print('delta_iL:', delta_iL, 'A')\n",
        "\n",
        "i_co = i_out*(duty_cycle ** (1/2))\n",
        "rse_max = (delta_vout*v_out)/(delta_iL*i_out)\n",
        "C_o = (i_out/(delta_vout*v_out*f)) * duty_cycle\n",
        "print('i_co: %.2f A' % i_co)\n",
        "# print('RES_max: %.2f Ohm' % rse_min)\n",
        "print('Capacitor:', C, 'C')\n",
        "print(f'Capacitância Mínima:{C_o:.2E} F')"
      ],
      "execution_count": 11,
      "outputs": [
        {
          "output_type": "stream",
          "text": [
            "f: 50000.0 Hz\n",
            "Duty Cycle: 0.3333333333333333\n",
            "i_out: 8.333333333333334 A\n",
            "R_load: 1.44 ohns\n",
            "delta_iL: 1.6 A\n",
            "i_co: 4.81 A\n",
            "Capacitor: 3.333333333333333e-05 C\n",
            "Capacitância Mínima:4.63E-04 F\n"
          ],
          "name": "stdout"
        }
      ]
    },
    {
      "metadata": {
        "id": "P37k792UY3YB",
        "colab_type": "text"
      },
      "cell_type": "markdown",
      "source": [
        "### Esforços na chave"
      ]
    },
    {
      "metadata": {
        "id": "CN1B6V56Y6YZ",
        "colab_type": "code",
        "outputId": "11fac145-695f-4168-9f91-9ac697246443",
        "colab": {
          "base_uri": "https://localhost:8080/",
          "height": 68
        }
      },
      "cell_type": "code",
      "source": [
        "v_key = v_in\n",
        "i_spk = i_out + (delta_vout/2)*i_out\n",
        "print('Corrente de Pico da Chave: %.2f A' % i_spk)\n",
        "i_smed = i_out*duty_cycle\n",
        "print('Corrente Média da Chave: %.2f A' % i_smed)\n",
        "i_srms = i_out*(duty_cycle ** (1/2))\n",
        "print('Corrente Eficaz da Chave: %.2f A' % i_srms)"
      ],
      "execution_count": 14,
      "outputs": [
        {
          "output_type": "stream",
          "text": [
            "Corrente de Pico da Chave: 8.38 A\n",
            "Corrente Média da Chave: 2.78 A\n",
            "Corrente Eficaz da Chave: 4.81 A\n"
          ],
          "name": "stdout"
        }
      ]
    },
    {
      "metadata": {
        "id": "IonJ_P_gGuKh",
        "colab_type": "text"
      },
      "cell_type": "markdown",
      "source": [
        "---\n",
        "# Cálculo de Dissipador"
      ]
    },
    {
      "metadata": {
        "id": "Y9Kc1ZtQHuLS",
        "colab_type": "text"
      },
      "cell_type": "markdown",
      "source": [
        "**Perdas por condução:**\n",
        "\n",
        "$$P_{cond} = R_{DS(ON)}{I_{s_{ef}}}²$$\n",
        "\n",
        "**Perdas por comutação:**\n",
        "\n",
        "$$P_{com}=\\frac{f}{2}(t_r + t_f)I_{DS(ON)}V_{DS(OFF)}$$\n",
        "\n",
        "**Perdas Total:**\n",
        "\n",
        "$$P = P_{cond} + P_{com}$$"
      ]
    },
    {
      "metadata": {
        "id": "v1rbxM-FPceF",
        "colab_type": "text"
      },
      "cell_type": "markdown",
      "source": [
        "**Resistência Térmica:**\n",
        "\n",
        "\n",
        "*   $R_{ja}$: Junção -> Ambiente\n",
        "*   $R_{jc}$: Junção -> Encapsulamento\n",
        "*   $R_{cd}$: Encapsulamento -> Dissipador\n",
        "*   $R_{da}$: Dissipador -> Ambiente\n",
        "\n",
        "Resistência térmica máxima para a temperatura da junção e ambiente definidas:\n",
        "\n",
        "$$R_{ja}=\\frac{T_j - T_a}{P}$$\n",
        "\n",
        "Resistência térmica série do conjunto de elementos entre a junção e o ambiente:\n",
        "\n",
        "$$R_{ja}=R_{jc}+R_{cd}+R_{da}$$\n",
        "\n"
      ]
    },
    {
      "metadata": {
        "id": "BwIVB6Uz6R3G",
        "colab_type": "text"
      },
      "cell_type": "markdown",
      "source": [
        "[Referência](https://electronics.stackexchange.com/questions/16956/to-220-case-to-sink-thermal-resistance) para o valor de resistência térmica entre o encapsulamento e o dissipador:\n",
        "\n",
        "$R_{cd} = 0.5$ Cº/W"
      ]
    },
    {
      "metadata": {
        "id": "lRclHmYk1ys8",
        "colab_type": "text"
      },
      "cell_type": "markdown",
      "source": [
        "# Transistor IRLZ44N:"
      ]
    },
    {
      "metadata": {
        "id": "-YiGJ5HkGqG6",
        "colab_type": "code",
        "outputId": "e83292b3-a24d-47b0-b97f-0c5feb1cb4a1",
        "colab": {
          "base_uri": "https://localhost:8080/",
          "height": 191
        }
      },
      "cell_type": "code",
      "source": [
        "f=50e3\n",
        "print('f:', f, 'Hz')\n",
        "\n",
        "Is_ef = 4.73\n",
        "Rds_on = 0.022\n",
        "P_cond = Rds_on*Is_ef**2\n",
        "print('Perdas por condução:', P_cond, 'W')\n",
        "\n",
        "t_r = 84e-9\n",
        "t_f = 15e-9\n",
        "Ids_on = 8.05\n",
        "Vds_off=v_in\n",
        "P_com = (f/2)*(t_r+t_f)*Ids_on*Vds_off\n",
        "P50 = P_cond+P_com\n",
        "print('Perdas por comutação:', P_com, 'W')\n",
        "print('Perdas Totais:', P50, 'W')\n",
        "\n",
        "print('\\n')\n",
        "\n",
        "f=100e3\n",
        "print('f:', f, 'Hz')\n",
        "\n",
        "Is_ef = 4.73\n",
        "Rds_on = 0.022\n",
        "P_cond = Rds_on*Is_ef**2\n",
        "print('Perdas por condução:', P_cond, 'W')\n",
        "\n",
        "t_r = 84e-9\n",
        "t_f = 15e-9\n",
        "Ids_on = 8.05\n",
        "Vds_off=v_in\n",
        "P_com = (f/2)*(t_r+t_f)*Ids_on*Vds_off\n",
        "P100 = P_cond+P_com\n",
        "print('Perdas por comutação:', P_com, 'W')\n",
        "print('Perdas Totais:', P100, 'W')"
      ],
      "execution_count": 0,
      "outputs": [
        {
          "output_type": "stream",
          "text": [
            "f: 50000.0 Hz\n",
            "Perdas por condução: 0.4922038000000001 W\n",
            "Perdas por comutação: 0.7172550000000002 W\n",
            "Perdas Totais: 1.2094588000000002 W\n",
            "\n",
            "\n",
            "f: 100000.0 Hz\n",
            "Perdas por condução: 0.4922038000000001 W\n",
            "Perdas por comutação: 1.4345100000000004 W\n",
            "Perdas Totais: 1.9267138000000004 W\n"
          ],
          "name": "stdout"
        }
      ]
    },
    {
      "metadata": {
        "id": "OafmXgzAR3Xn",
        "colab_type": "code",
        "outputId": "fe0ef453-c683-4b23-b44c-2b5281f5bda1",
        "colab": {
          "base_uri": "https://localhost:8080/",
          "height": 121
        }
      },
      "cell_type": "code",
      "source": [
        "T_a = 50\n",
        "T_j = 150\n",
        "R_cd = 0.5\n",
        "R_jc = 1.4\n",
        "R_ja = 62\n",
        "\n",
        "f=50e3\n",
        "print('f:', f, 'Hz')\n",
        "\n",
        "R_ja50 = (T_j - T_a)/P50\n",
        "print('Resistência Junção->Ambiente:', R_ja50, 'grausC/W')\n",
        "\n",
        "print('\\n')\n",
        "\n",
        "f=100e3\n",
        "print('f:', f, 'Hz')\n",
        "\n",
        "R_ja100 = (T_j - T_a)/P100\n",
        "print('Resistência Junção->Ambiente:', R_ja100, 'grausC/W')"
      ],
      "execution_count": 0,
      "outputs": [
        {
          "output_type": "stream",
          "text": [
            "f: 50000.0 Hz\n",
            "Resistência Junção->Ambiente: 82.68160932807301 grausC/W\n",
            "\n",
            "\n",
            "f: 100000.0 Hz\n",
            "Resistência Junção->Ambiente: 51.901844477368655 grausC/W\n"
          ],
          "name": "stdout"
        }
      ]
    },
    {
      "metadata": {
        "id": "eJb7jh1NUOuG",
        "colab_type": "text"
      },
      "cell_type": "markdown",
      "source": [
        "Apenas para a frequência de 100 kHz é necessário o dissipador.\n"
      ]
    },
    {
      "metadata": {
        "id": "ghC1pWTGUZE0",
        "colab_type": "code",
        "outputId": "3a44fdf6-2a0c-419c-edcd-6f4f2af28887",
        "colab": {
          "base_uri": "https://localhost:8080/",
          "height": 34
        }
      },
      "cell_type": "code",
      "source": [
        "R_da = R_ja100 - R_jc - R_cd\n",
        "print('Resistência térmica dissipador->ambiente:', R_da, 'grausC/W')"
      ],
      "execution_count": 0,
      "outputs": [
        {
          "output_type": "stream",
          "text": [
            "Resistência térmica dissipador->ambiente: 50.00184447736866 grausC/W\n"
          ],
          "name": "stdout"
        }
      ]
    },
    {
      "metadata": {
        "id": "LYNnZcJOVVoI",
        "colab_type": "text"
      },
      "cell_type": "markdown",
      "source": [
        "**Dissipador escolhido:** \n",
        "\n",
        "---\n",
        "\n",
        "hs3512B com 20 mm\n",
        "\n",
        "Resistência Térmica: 8,44 ºC / W / 4\n",
        "\n",
        "Fator de correção para 20 mm: 2.21\n",
        "\n",
        "$8,44\\times2.21=18.65$ Cº/W\n",
        "\n",
        "[Catálago HS Dissipadores](https://www.hsdissipadores.com.br/catalogo.pdf)\n",
        "\n",
        "---\n",
        "\n",
        "EX Series Hearsinks:\n",
        "\n",
        "Modelo E2A-T220-25E\n",
        "\n",
        "Resistência Térmica: 16.4ºC / W\n",
        "\n",
        "[Catálago OHMITE](https://www.mouser.com/datasheet/2/303/sink_ex-1265519.pdf)"
      ]
    },
    {
      "metadata": {
        "id": "ZN5oRTmccIcw",
        "colab_type": "text"
      },
      "cell_type": "markdown",
      "source": [
        "# Diodo MUR860:"
      ]
    },
    {
      "metadata": {
        "colab_type": "code",
        "outputId": "652e8a26-e31c-4930-9f5c-3cbf3955387a",
        "id": "etXdYMBiaQab",
        "colab": {
          "base_uri": "https://localhost:8080/",
          "height": 208
        }
      },
      "cell_type": "code",
      "source": [
        "Is_ef = 6.48\n",
        "Rd_on = 0.034\n",
        "t_rr = 70e-9\n",
        "Id_on = 8.05\n",
        "Vd_off=v_in\n",
        "\n",
        "P_cond = Rd_on*Is_ef**2\n",
        "print('Perdas por condução:', P_cond, 'W')\n",
        "\n",
        "print('\\n')\n",
        "\n",
        "f=50e3\n",
        "print('f:', f, 'Hz')\n",
        "P_com = (f/2)*t_rr*Id_on*Vd_off\n",
        "P50 = P_cond+P_com\n",
        "print('Perdas por comutação:', P_com, 'W')\n",
        "print('Perdas Totais:', P50, 'W')\n",
        "\n",
        "print('\\n')\n",
        "\n",
        "f=100e3\n",
        "print('f:', f, 'Hz')\n",
        "P_com = (f/2)*t_rr*Id_on*Vd_off\n",
        "P100 = P_cond+P_com\n",
        "print('Perdas por comutação:', P_com, 'W')\n",
        "print('Perdas Totais:', P100, 'W')"
      ],
      "execution_count": 0,
      "outputs": [
        {
          "output_type": "stream",
          "text": [
            "Perdas por condução: 1.4276736000000003 W\n",
            "\n",
            "\n",
            "f: 50000.0 Hz\n",
            "Perdas por comutação: 0.50715 W\n",
            "Perdas Totais: 1.9348236000000003 W\n",
            "\n",
            "\n",
            "f: 100000.0 Hz\n",
            "Perdas por comutação: 1.0143 W\n",
            "Perdas Totais: 2.4419736000000003 W\n"
          ],
          "name": "stdout"
        }
      ]
    },
    {
      "metadata": {
        "colab_type": "code",
        "outputId": "bcc6deca-1557-4c5b-ff77-e902d08f21ff",
        "id": "jjhIRDfFaQa3",
        "colab": {
          "base_uri": "https://localhost:8080/",
          "height": 121
        }
      },
      "cell_type": "code",
      "source": [
        "T_a = 50\n",
        "T_j = 150\n",
        "R_cd = 0.5\n",
        "R_jc = 2\n",
        "R_ja = 73\n",
        "\n",
        "f=50e3\n",
        "print('f:', f, 'Hz')\n",
        "\n",
        "R_ja50 = (T_j - T_a)/P50\n",
        "print('Resistência Junção->Ambiente:', R_ja50, 'grausC/W')\n",
        "\n",
        "print('\\n')\n",
        "\n",
        "f=100e3\n",
        "print('f:', f, 'Hz')\n",
        "\n",
        "R_ja100 = (T_j - T_a)/P100\n",
        "print('Resistência Junção->Ambiente:', R_ja100, 'grausC/W')"
      ],
      "execution_count": 0,
      "outputs": [
        {
          "output_type": "stream",
          "text": [
            "f: 50000.0 Hz\n",
            "Resistência Junção->Ambiente: 51.68429824817104 grausC/W\n",
            "\n",
            "\n",
            "f: 100000.0 Hz\n",
            "Resistência Junção->Ambiente: 40.950483657972384 grausC/W\n"
          ],
          "name": "stdout"
        }
      ]
    },
    {
      "metadata": {
        "colab_type": "code",
        "outputId": "8b3779b6-3f85-4d04-ac8e-51a91a7310d9",
        "id": "kHt9sYl5MA0z",
        "colab": {
          "base_uri": "https://localhost:8080/",
          "height": 86
        }
      },
      "cell_type": "code",
      "source": [
        "R_da = R_ja50 - R_jc - R_cd\n",
        "print(\"f=50 kHz\")\n",
        "print('Resistência térmica dissipador->ambiente:', R_da, 'grausC/W')\n",
        "\n",
        "R_da = R_ja100 - R_jc - R_cd\n",
        "print(\"f=100 kHz\")\n",
        "print('Resistência térmica dissipador->ambiente:', R_da, 'grausC/W')"
      ],
      "execution_count": 0,
      "outputs": [
        {
          "output_type": "stream",
          "text": [
            "f=50 kHz\n",
            "Resistência térmica dissipador->ambiente: 49.18429824817104 grausC/W\n",
            "f=100 kHz\n",
            "Resistência térmica dissipador->ambiente: 38.450483657972384 grausC/W\n"
          ],
          "name": "stdout"
        }
      ]
    },
    {
      "metadata": {
        "colab_type": "code",
        "outputId": "e20cbcf5-6154-4c0e-8dc0-abd9abd36ef1",
        "id": "W6nJ0MloXu5d",
        "colab": {
          "base_uri": "https://localhost:8080/",
          "height": 34
        }
      },
      "cell_type": "code",
      "source": [
        "R_da = R_ja100 - R_jc - R_cd\n",
        "print('Resistência térmica dissipador->ambiente:', R_da, 'grausC/W')"
      ],
      "execution_count": 0,
      "outputs": [
        {
          "output_type": "stream",
          "text": [
            "Resistência térmica dissipador->ambiente: 38.450483657972384 grausC/W\n"
          ],
          "name": "stdout"
        }
      ]
    },
    {
      "metadata": {
        "colab_type": "text",
        "id": "t1_9MyBOfFYz"
      },
      "cell_type": "markdown",
      "source": [
        "**Dissipador escolhido:** \n",
        "\n",
        "---\n",
        "\n",
        "hs3512B com 20 mm\n",
        "\n",
        "Resistência Térmica: 8,44 ºC / W / 4\n",
        "\n",
        "Fator de correção para 20 mm: 2.21\n",
        "\n",
        "$8,44\\times2.21=18.65$ Cº/W\n",
        "\n",
        "[Catálago HS Dissipadores](https://www.hsdissipadores.com.br/catalogo.pdf)\n",
        "\n",
        "---\n",
        "\n",
        "EX Series Hearsinks:\n",
        "\n",
        "Modelo E2A-T220-25E\n",
        "\n",
        "Resistência Térmica: 16.4ºC / W\n",
        "\n",
        "[Catálago OHMITE](https://www.mouser.com/datasheet/2/303/sink_ex-1265519.pdf)"
      ]
    },
    {
      "metadata": {
        "colab_type": "text",
        "id": "sx44eKdpfUI0"
      },
      "cell_type": "markdown",
      "source": [
        "# Diodo MRB20100:"
      ]
    },
    {
      "metadata": {
        "colab_type": "code",
        "outputId": "a471a810-4ca6-4b48-b3f1-6b7ea3c06d8e",
        "id": "LE_COTlWfUJA",
        "colab": {
          "base_uri": "https://localhost:8080/",
          "height": 208
        }
      },
      "cell_type": "code",
      "source": [
        "Is_ef = 6.48\n",
        "Rd_on = 0.08\n",
        "t_rr = 70e-9\n",
        "Id_on = 8.05\n",
        "Vd_off=v_in\n",
        "\n",
        "P_cond = Rd_on*Is_ef**2\n",
        "print('Perdas por condução:', P_cond, 'W')\n",
        "\n",
        "print('\\n')\n",
        "\n",
        "f=50e3\n",
        "print('f:', f, 'Hz')\n",
        "P_com = (f/2)*t_rr*Id_on*Vd_off\n",
        "P50 = P_cond+P_com\n",
        "print('Perdas por comutação:', P_com, 'W')\n",
        "print('Perdas Totais:', P50, 'W')\n",
        "\n",
        "print('\\n')\n",
        "\n",
        "f=100e3\n",
        "print('f:', f, 'Hz')\n",
        "P_com = (f/2)*t_rr*Id_on*Vd_off\n",
        "P100 = P_cond+P_com\n",
        "print('Perdas por comutação:', P_com, 'W')\n",
        "print('Perdas Totais:', P100, 'W')"
      ],
      "execution_count": 0,
      "outputs": [
        {
          "output_type": "stream",
          "text": [
            "Perdas por condução: 3.359232000000001 W\n",
            "\n",
            "\n",
            "f: 50000.0 Hz\n",
            "Perdas por comutação: 0.50715 W\n",
            "Perdas Totais: 3.8663820000000007 W\n",
            "\n",
            "\n",
            "f: 100000.0 Hz\n",
            "Perdas por comutação: 1.0143 W\n",
            "Perdas Totais: 4.373532000000001 W\n"
          ],
          "name": "stdout"
        }
      ]
    },
    {
      "metadata": {
        "id": "pVknv7WuHaHy",
        "colab_type": "text"
      },
      "cell_type": "markdown",
      "source": [
        "Perdas totais analisando o datasheet: \n",
        "Aproximadamente $3$ W\n",
        "\n",
        "$R_{d(on)} = \\frac{P}{I²} \\simeq 2/25 \\simeq 0.08$\n",
        "\n",
        "![alt text](https://raw.githubusercontent.com/lsmanoel/PowerEletronics/master/heatsink/images/MBR20100_fig5_datasheet.png)\n",
        "\n",
        "[Datasheet](http://pdf1.alldatasheet.com/datasheet-pdf/view/5595/MOTOROLA/MUR860.html)"
      ]
    },
    {
      "metadata": {
        "colab_type": "code",
        "outputId": "4418887c-7825-432e-a7dc-f40a75962338",
        "id": "F-TaX3MyfUJo",
        "colab": {
          "base_uri": "https://localhost:8080/",
          "height": 121
        }
      },
      "cell_type": "code",
      "source": [
        "T_a = 50\n",
        "T_j = 150\n",
        "R_cd = 0.5\n",
        "R_jc = 2.5\n",
        "R_ja = 60\n",
        "\n",
        "f=50e3\n",
        "print('f:', f, 'Hz')\n",
        "\n",
        "R_ja50 = (T_j - T_a)/P50\n",
        "print('Resistência Junção->Ambiente:', R_ja50, 'grausC/W')\n",
        "\n",
        "print('\\n')\n",
        "\n",
        "f=100e3\n",
        "print('f:', f, 'Hz')\n",
        "\n",
        "R_ja100 = (T_j - T_a)/P100\n",
        "print('Resistência Junção->Ambiente:', R_ja100, 'grausC/W')"
      ],
      "execution_count": 0,
      "outputs": [
        {
          "output_type": "stream",
          "text": [
            "f: 50000.0 Hz\n",
            "Resistência Junção->Ambiente: 25.863973089053275 grausC/W\n",
            "\n",
            "\n",
            "f: 100000.0 Hz\n",
            "Resistência Junção->Ambiente: 22.86481498249012 grausC/W\n"
          ],
          "name": "stdout"
        }
      ]
    },
    {
      "metadata": {
        "colab_type": "code",
        "outputId": "6f5fe174-2fe5-428f-ee01-e4d3ddba042b",
        "id": "GzzpQZmDMmvN",
        "colab": {
          "base_uri": "https://localhost:8080/",
          "height": 86
        }
      },
      "cell_type": "code",
      "source": [
        "R_da = R_ja50 - R_jc - R_cd\n",
        "print(\"f=50 kHz\")\n",
        "print('Resistência térmica dissipador->ambiente:', R_da, 'grausC/W')\n",
        "\n",
        "R_da = R_ja100 - R_jc - R_cd\n",
        "print(\"f=100 kHz\")\n",
        "print('Resistência térmica dissipador->ambiente:', R_da, 'grausC/W')"
      ],
      "execution_count": 0,
      "outputs": [
        {
          "output_type": "stream",
          "text": [
            "f=50 kHz\n",
            "Resistência térmica dissipador->ambiente: 22.863973089053275 grausC/W\n",
            "f=100 kHz\n",
            "Resistência térmica dissipador->ambiente: 19.86481498249012 grausC/W\n"
          ],
          "name": "stdout"
        }
      ]
    },
    {
      "metadata": {
        "colab_type": "code",
        "outputId": "6cdb59ec-16c1-4edb-c613-ed5f1c426c08",
        "id": "2jfnV1vdXx2w",
        "colab": {
          "base_uri": "https://localhost:8080/",
          "height": 34
        }
      },
      "cell_type": "code",
      "source": [
        "R_da = R_ja100 - R_jc - R_cd\n",
        "print('Resistência térmica dissipador->ambiente:', R_da, 'grausC/W')"
      ],
      "execution_count": 0,
      "outputs": [
        {
          "output_type": "stream",
          "text": [
            "Resistência térmica dissipador->ambiente: 19.86481498249012 grausC/W\n"
          ],
          "name": "stdout"
        }
      ]
    },
    {
      "metadata": {
        "colab_type": "text",
        "id": "Md3DumKTfUJ5"
      },
      "cell_type": "markdown",
      "source": [
        "**Dissipador escolhido:** \n",
        "\n",
        "---\n",
        "\n",
        "hs3512B com 20 mm\n",
        "\n",
        "Resistência Térmica: 8,44 ºC / W / 4\n",
        "\n",
        "Fator de correção para 20 mm: 2.21\n",
        "\n",
        "$8,44\\times2.21=18.65$ Cº/W\n",
        "\n",
        "[Catálago HS Dissipadores](https://www.hsdissipadores.com.br/catalogo.pdf)\n",
        "\n",
        "---\n",
        "\n",
        "EX Series Hearsinks:\n",
        "\n",
        "Modelo E2A-T220-25E\n",
        "\n",
        "Resistência Térmica: 16.4ºC / W\n",
        "\n",
        "[Catálago OHMITE](https://www.mouser.com/datasheet/2/303/sink_ex-1265519.pdf)"
      ]
    }
  ]
}